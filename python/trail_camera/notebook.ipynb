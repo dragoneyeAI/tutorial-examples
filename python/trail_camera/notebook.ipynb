{
 "cells": [
  {
   "cell_type": "code",
   "execution_count": null,
   "metadata": {},
   "outputs": [],
   "source": [
    "import asyncio\n",
    "import io\n",
    "import aiohttp\n",
    "from PIL import Image\n",
    "\n",
    "image_urls = [\n",
    "    # Credit: Scott Foster\n",
    "    \"https://neont.s3.amazonaws.com/wp-content/uploads/2017/11/Scott-Foster-Too-Pooped-to-Party.jpg\",\n",
    "    # Credit: Katie McPherson\n",
    "    \"https://storageciggallery.addons.business/13611/cig-cozy-gallery-6892vUf-Katie-McPherson-CA-hd.jpg?c=00\",\n",
    "    # Credit: Kyle Finger\n",
    "    \"https://storageciggallery.addons.business/13611/cig-cozy-gallery-6892nr8-KyleFingerWisconsin-hd.jpg?c=00\",\n",
    "    # Credit: Cayuga Nature Center\n",
    "    \"https://images.squarespace-cdn.com/content/v1/5d3cb13b96f9ac0001e89cf6/1578338468978-4U1LVRPRLU2B83UR77BX/Smith-Woods-trees.JPG\",\n",
    "]\n",
    "\n",
    "\n",
    "async def fetch_image(session: aiohttp.ClientSession, url: str) -> Image.Image:\n",
    "    async with session.get(url) as response:\n",
    "        image_bytes = await response.read()\n",
    "        return Image.open(io.BytesIO(image_bytes))\n",
    "\n",
    "\n",
    "async def fetch_images(urls: list[str]) -> list[Image.Image]:\n",
    "    async with aiohttp.ClientSession() as session:\n",
    "        return await asyncio.gather(*[fetch_image(session, url) for url in urls])\n",
    "\n",
    "\n",
    "def get_bytes_from_image(image: Image.Image) -> bytes:\n",
    "    img_byte_arr = io.BytesIO()\n",
    "    image.save(img_byte_arr, format=\"JPEG\")\n",
    "    return img_byte_arr.getvalue()\n",
    "\n",
    "\n",
    "images = await fetch_images(image_urls)"
   ]
  },
  {
   "cell_type": "code",
   "execution_count": null,
   "metadata": {},
   "outputs": [],
   "source": [
    "from IPython.display import display  # pyright: ignore\n",
    "\n",
    "for image in images:\n",
    "    display(image)"
   ]
  },
  {
   "cell_type": "code",
   "execution_count": null,
   "metadata": {},
   "outputs": [],
   "source": [
    "from typing import Any\n",
    "\n",
    "MODEL_NAME = \"dragoneye/animals\"\n",
    "# Fill this in with your auth token\n",
    "AUTH_TOKEN = \"<YOUR_AUTH_TOKEN>\"\n",
    "\n",
    "\n",
    "async def get_prediction(\n",
    "    session: aiohttp.ClientSession,\n",
    "    model_name: str,\n",
    "    image: Image.Image,\n",
    ") -> dict[str, Any]:\n",
    "    async with session.post(\n",
    "        \"https://api.dragoneye.ai/predict\",\n",
    "        data={\n",
    "            \"image_file\": get_bytes_from_image(image),\n",
    "            \"model_name\": model_name,\n",
    "        },\n",
    "        headers={\n",
    "            \"Authorization\": f\"Bearer {AUTH_TOKEN}\",\n",
    "        },\n",
    "    ) as response:\n",
    "        return await response.json()\n",
    "\n",
    "\n",
    "async with aiohttp.ClientSession() as session:\n",
    "    prediction_results = await asyncio.gather(*[\n",
    "        get_prediction(session, MODEL_NAME, image) for image in images\n",
    "    ])\n",
    "    images_with_prediction_results = zip(images, prediction_results)"
   ]
  },
  {
   "cell_type": "code",
   "execution_count": null,
   "metadata": {},
   "outputs": [],
   "source": [
    "def all_objects_in_image(\n",
    "    prediction_results: dict[str, Any],\n",
    "    prediction_threshold: float = 0.7,\n",
    ") -> list[tuple[str, float]]:\n",
    "    def get_category(prediction: dict[str, Any]) -> tuple[str, float]:\n",
    "        \"\"\"\n",
    "        Parse out the category from the hierarchical prediction.\n",
    "        \"\"\"\n",
    "        if not prediction[\"children\"]:\n",
    "            return (prediction[\"name\"], prediction[\"score\"])\n",
    "        else:\n",
    "            return get_category(\n",
    "                prediction[\"children\"][0],\n",
    "            )\n",
    "\n",
    "    predictions = [\n",
    "        get_category(prediction[\"category\"])\n",
    "        for prediction in prediction_results[\"predictions\"]\n",
    "    ]\n",
    "\n",
    "    return [\n",
    "        prediction for prediction in predictions if prediction[1] > prediction_threshold\n",
    "    ]\n",
    "\n",
    "\n",
    "images_with_objects_in_image = [\n",
    "    (image, all_objects_in_image(prediction_results))\n",
    "    for image, prediction_results in images_with_prediction_results\n",
    "]\n"
   ]
  },
  {
   "cell_type": "code",
   "execution_count": null,
   "metadata": {},
   "outputs": [],
   "source": [
    "for image, objects_in_image in images_with_objects_in_image:\n",
    "    print(f\"Animals detected in image: {set([name for name, _ in objects_in_image])}\")\n",
    "    display(image)"
   ]
  }
 ],
 "metadata": {
  "kernelspec": {
   "display_name": "ml",
   "language": "python",
   "name": "python3"
  },
  "language_info": {
   "codemirror_mode": {
    "name": "ipython",
    "version": 3
   },
   "file_extension": ".py",
   "mimetype": "text/x-python",
   "name": "python",
   "nbconvert_exporter": "python",
   "pygments_lexer": "ipython3",
   "version": "3.11.8"
  }
 },
 "nbformat": 4,
 "nbformat_minor": 2
}
